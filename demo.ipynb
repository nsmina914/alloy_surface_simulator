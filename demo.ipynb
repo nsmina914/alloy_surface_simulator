{
 "cells": [
  {
   "cell_type": "code",
   "execution_count": null,
   "metadata": {},
   "outputs": [],
   "source": [
    "#first import the code and its functions\n",
    "import alloy_surface_simulator\n",
    "\n",
    "from alloy_surface_simulator import calcLC, createSurface, cns, findCNS  \n",
    "\n",
    "from alloy_surface_simulator import readability, readability_new, csv_read, parameterLookup, energyCalculator, energyCalculator_FAST, atomSwapper, PT_step, PT_simulation, pairSiteCalculator, distributionCalculator, cnCalculator \n",
    "\n",
    "from alloy_surface_simulator import exportData, runSimulation, readData, equilibrate, boxcar, obtainBaseline\n",
    "\n",
    "#also import parameter libraries\n",
    "from alloy_surface_simulator import WF_index, WF_1, WF_2, BCE, BCN, LCN "
   ]
  },
  {
   "cell_type": "markdown",
   "metadata": {},
   "source": [
    "The code is equipped to generate a random configuration of a binary alloy nanomaterial, output as a .xyz file specifying the coordinates. You as the user can specify the identities of the metals, the nominal composition of each, and the lattice geometry (Miller index). Skip this step if you already have a configuration in .xyz format."
   ]
  },
  {
   "cell_type": "code",
   "execution_count": null,
   "metadata": {},
   "outputs": [],
   "source": [
    "e1 = 'Pt' #first element - nominal composition will be expressed in terms of it\n",
    "e2 = 'Au' #second element\n",
    "per1 = 50 #percentage of first element in the alloy\n",
    "\n",
    "lc=calcLC(LCN[e1], LCN[e2], per1) #calculates lattice constant using Vegard's law approximation\n",
    "\n",
    "dimensions= (5,6,3)\n",
    "\n",
    "miller_index=100\n",
    "\n",
    "filename='demo.xyz'\n",
    "\n",
    "createSurface(dimensions, miller_index, lc, e1, per1, e2, filename) #generates configuration "
   ]
  },
  {
   "cell_type": "markdown",
   "metadata": {},
   "source": [
    "The code as written was used for Au-Pt alloys. If you want to use other metals you simply have to append their parameter values. The LCN (lattice constant number) and BCN (bulk coordination number) dictionaries contain no metals other than Pt and Au, so values must be added for all other metals. The weight factors and BCE (bulk cohesive energies) include most metals."
   ]
  },
  {
   "cell_type": "code",
   "execution_count": null,
   "metadata": {},
   "outputs": [],
   "source": [
    "#verify that Pd is in the BCE dictionary - statement evaluates to True\n",
    "'Pd' in BCE.keys()"
   ]
  },
  {
   "cell_type": "code",
   "execution_count": null,
   "metadata": {},
   "outputs": [],
   "source": [
    "#add Pd values to LCN and BCN dictionaries\n",
    "\n",
    "LCN['Pd']=3.89\n",
    "\n",
    "BCN['Pd']=6\n",
    "\n",
    "LCN, BCN"
   ]
  },
  {
   "cell_type": "markdown",
   "metadata": {},
   "source": [
    "In order to properly calculate (and subsequently minimize) the energy of a configuration, we need to know the coordination numbers and nearest neighbors of each atom. Calling `findCNS` will automatically add this info to the .xyz file for our configuration."
   ]
  },
  {
   "cell_type": "code",
   "execution_count": null,
   "metadata": {},
   "outputs": [],
   "source": [
    "findCNS('demo.xyz')"
   ]
  },
  {
   "cell_type": "markdown",
   "metadata": {},
   "source": [
    "Now we can determine and store the cohesive energies, bulk coordination numbers, and weight factors for each element in the alloy. We can also calculate the energy of our configuration. \n",
    "\n",
    "There is an option to add an adsorbate to the surface of the alloy, or use default of `None` for an adsorbate-free surface (e.g. an alloy in vacuum). Note that the only adsorbate the code is currently equipped to handle is oxygen. For other adsorbates you must append the BCN (always 2 for an adsorbate, because it is on the surface and will only be surrounded by one other atom) and the BCE. You must also modify WF_1 and WF_2 to include the bond dissociation energy for the bond between oxygen and each of the metals in your alloy. WF_1 energies are expressed in eV and WF_2 energies are expressed in kJ/mol; perform a literature search for your desired values."
   ]
  },
  {
   "cell_type": "code",
   "execution_count": null,
   "metadata": {},
   "outputs": [],
   "source": [
    "#call the readability function so the parameter lookup function can properly read in the file\n",
    "config = readability('demo.xyz') \n",
    "\n",
    "#look up parameters\n",
    "parameters=parameterLookup(config, WF_1, WF_2, WF_index, BCE, adsorb=None)\n",
    "atom_types=parameters[0]\n",
    "BCEs = parameters[1]\n",
    "BCNs = parameters[2]\n",
    "weightfactors = parameters[3]\n",
    "\n",
    "atom_types, BCEs, BCNs, weightfactors"
   ]
  },
  {
   "cell_type": "code",
   "execution_count": null,
   "metadata": {},
   "outputs": [],
   "source": [
    "#calculate energy\n",
    "\n",
    "total_energy= energyCalculator(config, atom_types,BCEs, BCNs, weightfactors, cover=1)\n",
    "#here cover refers to percentage of surface that has adsorbates bonded to it. \n",
    "#if you have no adsorbates, any number between 0 and 1 is a valid input and won't affect calculations\n",
    "\n",
    "energy_peratom = total_energy/(5*6*3) #divide by product of the dimensions to get energy per atom"
   ]
  },
  {
   "cell_type": "markdown",
   "metadata": {},
   "source": [
    "To run a parallel-tempering simulation, two atoms are randomly chosen in the configuration, and their places are swapped. The energies are compared, and if the new configuration has a lower energy than the original OR the new energy is higher but the Boltzmann probability criteria is met, the new configuration is accepted."
   ]
  },
  {
   "cell_type": "code",
   "execution_count": null,
   "metadata": {},
   "outputs": [],
   "source": [
    "kT = 0.025 #room temperature in eV multiplied by the Boltzmann constant.\n",
    "#this is used in the probability formula that determines whether a proposed swap is accepted\n",
    "\n",
    "PT_step(config, kT, atom_types,BCEs, BCNs, weightfactors, cover=1)"
   ]
  },
  {
   "cell_type": "markdown",
   "metadata": {},
   "source": [
    "Run enough trials, and eventually you'll get tons of configurations in the sample space. Once you discard the initial trials that are required for the system to equilibriate in energy, you can take averages of the energies of all the configurations in the sample space, and this is an accurate portrayal of the energy we would expect our nanomaterial to have \"in real life.\"\n",
    "\n",
    "Use `PT_simulation()` to loop over the desired number of trials (how many it takes to get an accurate portrayal of the sample space is trial and error). The way the code is structured, 3 different simulations are run at 3 different temperatures, and a fraction (literature suggests 10%, or 0.1) of configurations are swapped between the temperature reservoirs; this prevents the configuration from getting \"stuck\" in an energy minimum.\n",
    "\n",
    "Note that it will take a long time and a lot of computational power to run this function, especially if you're using a large number of trials."
   ]
  },
  {
   "cell_type": "code",
   "execution_count": null,
   "metadata": {},
   "outputs": [],
   "source": [
    "#suggested literature values for reservoir temperatures and fraction of configurations that are swapped\n",
    "kT_cold=0.025\n",
    "kT_med=0.035\n",
    "kT_hot=0.045\n",
    "frac_swap=0.1\n",
    "\n",
    "trials=500000 #number of trials\n",
    "\n",
    "run = PT_simulation('demo.xyz', trials, frac_swap, kTcold, kTmed, kThot, atom_types,BCEs, BCNs,weightfactors, cover=1)"
   ]
  },
  {
   "cell_type": "markdown",
   "metadata": {},
   "source": [
    "As output, you will get the identities of the elements `run[0]`, the energies of each configuration in each of the temperature reservoirs (for cold reservoir use `run[1]`, pairs of each element on the surface (`run[2]` and `run[3]`), and number of each element on the surface (`run[4]` and `run[5]`)."
   ]
  },
  {
   "cell_type": "markdown",
   "metadata": {},
   "source": [
    "The `runSimulation` function does all of the above steps, beginning with generating a random configuration, in a single command. It also exports the energy, pair site, and surface distribution data in a .csv file for convenient storage and analysis."
   ]
  },
  {
   "cell_type": "code",
   "execution_count": null,
   "metadata": {},
   "outputs": [],
   "source": [
    "runSimulation('Pt', 'Au', 50, 5,6,3, 100, 'demo.xyz', None, 500000, 0.025, 0.035, 0.045, cover=1)"
   ]
  },
  {
   "cell_type": "markdown",
   "metadata": {},
   "source": [
    "How do you know if you've run a good amount of trials, and, if so, how many of the initial trials to discard as part of equilibration? Plot the energy as a function of trial number and note the trends.\n",
    "*Note: you can also generate these graphs and do analysis in Excel or any other graphing program.*"
   ]
  },
  {
   "cell_type": "code",
   "execution_count": null,
   "metadata": {},
   "outputs": [],
   "source": [
    "#turn the csv file into a readable format\n",
    "data= readData('demo.csv')\n",
    "\n",
    "#the energies will be the first list returned by the above function. these are the y-values\n",
    "y=data[0]\n",
    "x=[i for i in range(len(y))] #x values are the trial numbers\n",
    "\n",
    "matplotlib.pyplot.plot(x,y)"
   ]
  },
  {
   "cell_type": "markdown",
   "metadata": {},
   "source": [
    "As you can see, energy wildly fluctuates until about 10,000 trials and then seems to settle into an equilibrium, where it still changes, but not wildly. That means the 500,000 trials run in this simulation offers an accurate portrayal of the system properties, upon discarding the first 10,000 or so.\n",
    "\n",
    "Use `equilibriate()` to discard the first 10,000 trials from the data set. You then have a list of the energies from each configuration after the 10,000th, to use for analysis. You can also discard the first 10,000 trials for the other properties, like pair sites."
   ]
  },
  {
   "cell_type": "code",
   "execution_count": null,
   "metadata": {},
   "outputs": [],
   "source": [
    "keep_energies = equilibriate(run[0], cutoff=10000)"
   ]
  },
  {
   "cell_type": "markdown",
   "metadata": {},
   "source": [
    "Perhaps you wish to use this code to compare the energies and properties of alloys of the same metals, in which you vary the nominal composition. You may compare alloys with adsorbates to those in vacuum. You might choose to vary the metals and see if one metal tends to prefer being on the surface of the alloy, and if this depends on the other metal it is bonded to (energetically, the higher the bond dissociation energy, the more bonds a species wants to form, and it is these species that gravitate towards higher coordination numbers on the inside of an alloy). You are limited by nothing other than your imagination! (and the computing power of your CPU)"
   ]
  }
 ],
 "metadata": {
  "kernelspec": {
   "display_name": "Python 3",
   "language": "python",
   "name": "python3"
  },
  "language_info": {
   "codemirror_mode": {
    "name": "ipython",
    "version": 3
   },
   "file_extension": ".py",
   "mimetype": "text/x-python",
   "name": "python",
   "nbconvert_exporter": "python",
   "pygments_lexer": "ipython3",
   "version": "3.7.4"
  }
 },
 "nbformat": 4,
 "nbformat_minor": 2
}
